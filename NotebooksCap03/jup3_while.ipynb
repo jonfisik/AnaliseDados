{
 "cells": [
  {
   "cell_type": "markdown",
   "metadata": {},
   "source": [
    "# #Estrutura de repetição While 02/05/2020"
   ]
  },
  {
   "cell_type": "code",
   "execution_count": null,
   "metadata": {},
   "outputs": [],
   "source": [
    "# while ~ iteração - executada enquanto a condição for verdeira;\n",
    "# while (condição):\n",
    "#   print('comando executado equanto condição for verdadeira')"
   ]
  },
  {
   "cell_type": "code",
   "execution_count": null,
   "metadata": {},
   "outputs": [],
   "source": [
    "# Loop para imprimir os números de 0 à 9 na tela\n",
    "counter = 0\n",
    "while counter < 10:\n",
    "    print(counter)\n",
    "    counter = 1 + counter #counter += 1"
   ]
  },
  {
   "cell_type": "code",
   "execution_count": null,
   "metadata": {},
   "outputs": [],
   "source": [
    "# Cláusula else para encerrar o loop while\n",
    "x = 0\n",
    "while x < 10:\n",
    "    print('O valor de {} é menor do que 10.'.format(x))\n",
    "    x += 1 # x = 1 + x\n",
    "else:\n",
    "    print('Loop concluído. 10 é igual a {}.'.format(x))"
   ]
  },
  {
   "cell_type": "code",
   "execution_count": null,
   "metadata": {},
   "outputs": [],
   "source": [
    "# Pass, break, continue"
   ]
  },
  {
   "cell_type": "code",
   "execution_count": null,
   "metadata": {},
   "outputs": [],
   "source": [
    "counter = 0\n",
    "while counter < 100 :\n",
    "    if counter == 4:\n",
    "        break\n",
    "    else:\n",
    "        pass\n",
    "    print(counter)\n",
    "    counter = counter + 1"
   ]
  },
  {
   "cell_type": "code",
   "execution_count": null,
   "metadata": {},
   "outputs": [],
   "source": [
    "for verificador in 'Python':\n",
    "    if verificador == 'h':\n",
    "        continue\n",
    "    print(verificador)"
   ]
  },
  {
   "cell_type": "code",
   "execution_count": null,
   "metadata": {},
   "outputs": [],
   "source": [
    "# while e for juntos"
   ]
  },
  {
   "cell_type": "code",
   "execution_count": null,
   "metadata": {},
   "outputs": [],
   "source": [
    "for in range(2,30):\n",
    "    j = 2\n",
    "    counter = 0\n",
    "    while i < j:\n",
    "        if i % j == 0:\n",
    "            counter = 1\n",
    "            j = j + 1\n",
    "        else:\n",
    "            j = j + 1"
   ]
  },
  {
   "cell_type": "code",
   "execution_count": null,
   "metadata": {},
   "outputs": [],
   "source": []
  }
 ],
 "metadata": {
  "language_info": {
   "codemirror_mode": {
    "name": "ipython",
    "version": 3
   },
   "file_extension": ".py",
   "mimetype": "text/x-python",
   "name": "python",
   "nbconvert_exporter": "python",
   "pygments_lexer": "ipython3",
   "version": "3.7.6-final"
  },
  "orig_nbformat": 2,
  "kernelspec": {
   "name": "python3",
   "display_name": "Python 3"
  }
 },
 "nbformat": 4,
 "nbformat_minor": 2
}